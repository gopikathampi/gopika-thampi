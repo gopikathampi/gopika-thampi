{
 "cells": [
  {
   "cell_type": "code",
   "execution_count": 149,
   "id": "e5779956",
   "metadata": {},
   "outputs": [],
   "source": [
    "#Loading Libraries\n",
    "import numpy as np\n",
    "import pandas as pd\n",
    "import matplotlib.pyplot as plt\n",
    "import warnings\n",
    "warnings.filterwarnings(\"ignore\")\n",
    "import seaborn as sns"
   ]
  },
  {
   "cell_type": "code",
   "execution_count": 150,
   "id": "26c0ec06",
   "metadata": {},
   "outputs": [
    {
     "data": {
      "text/html": [
       "<div>\n",
       "<style scoped>\n",
       "    .dataframe tbody tr th:only-of-type {\n",
       "        vertical-align: middle;\n",
       "    }\n",
       "\n",
       "    .dataframe tbody tr th {\n",
       "        vertical-align: top;\n",
       "    }\n",
       "\n",
       "    .dataframe thead th {\n",
       "        text-align: right;\n",
       "    }\n",
       "</style>\n",
       "<table border=\"1\" class=\"dataframe\">\n",
       "  <thead>\n",
       "    <tr style=\"text-align: right;\">\n",
       "      <th></th>\n",
       "      <th>Year</th>\n",
       "      <th>Price</th>\n",
       "    </tr>\n",
       "  </thead>\n",
       "  <tbody>\n",
       "    <tr>\n",
       "      <th>0</th>\n",
       "      <td>2018</td>\n",
       "      <td>465000</td>\n",
       "    </tr>\n",
       "    <tr>\n",
       "      <th>1</th>\n",
       "      <td>2019</td>\n",
       "      <td>755000</td>\n",
       "    </tr>\n",
       "    <tr>\n",
       "      <th>2</th>\n",
       "      <td>2019</td>\n",
       "      <td>700000</td>\n",
       "    </tr>\n",
       "    <tr>\n",
       "      <th>3</th>\n",
       "      <td>2018</td>\n",
       "      <td>465000</td>\n",
       "    </tr>\n",
       "    <tr>\n",
       "      <th>4</th>\n",
       "      <td>2018</td>\n",
       "      <td>465000</td>\n",
       "    </tr>\n",
       "    <tr>\n",
       "      <th>...</th>\n",
       "      <td>...</td>\n",
       "      <td>...</td>\n",
       "    </tr>\n",
       "    <tr>\n",
       "      <th>107</th>\n",
       "      <td>2016</td>\n",
       "      <td>375000</td>\n",
       "    </tr>\n",
       "    <tr>\n",
       "      <th>108</th>\n",
       "      <td>2014</td>\n",
       "      <td>300000</td>\n",
       "    </tr>\n",
       "    <tr>\n",
       "      <th>109</th>\n",
       "      <td>2015</td>\n",
       "      <td>425000</td>\n",
       "    </tr>\n",
       "    <tr>\n",
       "      <th>110</th>\n",
       "      <td>2016</td>\n",
       "      <td>420000</td>\n",
       "    </tr>\n",
       "    <tr>\n",
       "      <th>111</th>\n",
       "      <td>2015</td>\n",
       "      <td>425000</td>\n",
       "    </tr>\n",
       "  </tbody>\n",
       "</table>\n",
       "<p>112 rows × 2 columns</p>\n",
       "</div>"
      ],
      "text/plain": [
       "     Year   Price\n",
       "0    2018  465000\n",
       "1    2019  755000\n",
       "2    2019  700000\n",
       "3    2018  465000\n",
       "4    2018  465000\n",
       "..    ...     ...\n",
       "107  2016  375000\n",
       "108  2014  300000\n",
       "109  2015  425000\n",
       "110  2016  420000\n",
       "111  2015  425000\n",
       "\n",
       "[112 rows x 2 columns]"
      ]
     },
     "execution_count": 150,
     "metadata": {},
     "output_type": "execute_result"
    }
   ],
   "source": [
    "#Loading Dataset\n",
    "\n",
    "data=pd.read_csv('car_age_price.csv')\n",
    "data"
   ]
  },
  {
   "cell_type": "code",
   "execution_count": 151,
   "id": "60fb8970",
   "metadata": {},
   "outputs": [
    {
     "data": {
      "text/html": [
       "<div>\n",
       "<style scoped>\n",
       "    .dataframe tbody tr th:only-of-type {\n",
       "        vertical-align: middle;\n",
       "    }\n",
       "\n",
       "    .dataframe tbody tr th {\n",
       "        vertical-align: top;\n",
       "    }\n",
       "\n",
       "    .dataframe thead th {\n",
       "        text-align: right;\n",
       "    }\n",
       "</style>\n",
       "<table border=\"1\" class=\"dataframe\">\n",
       "  <thead>\n",
       "    <tr style=\"text-align: right;\">\n",
       "      <th></th>\n",
       "      <th>Year</th>\n",
       "      <th>Price</th>\n",
       "    </tr>\n",
       "  </thead>\n",
       "  <tbody>\n",
       "    <tr>\n",
       "      <th>0</th>\n",
       "      <td>2018</td>\n",
       "      <td>465000</td>\n",
       "    </tr>\n",
       "    <tr>\n",
       "      <th>1</th>\n",
       "      <td>2019</td>\n",
       "      <td>755000</td>\n",
       "    </tr>\n",
       "    <tr>\n",
       "      <th>2</th>\n",
       "      <td>2019</td>\n",
       "      <td>700000</td>\n",
       "    </tr>\n",
       "    <tr>\n",
       "      <th>3</th>\n",
       "      <td>2018</td>\n",
       "      <td>465000</td>\n",
       "    </tr>\n",
       "    <tr>\n",
       "      <th>4</th>\n",
       "      <td>2018</td>\n",
       "      <td>465000</td>\n",
       "    </tr>\n",
       "  </tbody>\n",
       "</table>\n",
       "</div>"
      ],
      "text/plain": [
       "   Year   Price\n",
       "0  2018  465000\n",
       "1  2019  755000\n",
       "2  2019  700000\n",
       "3  2018  465000\n",
       "4  2018  465000"
      ]
     },
     "execution_count": 151,
     "metadata": {},
     "output_type": "execute_result"
    }
   ],
   "source": [
    "#This displays top five rows\n",
    "data.head()"
   ]
  },
  {
   "cell_type": "code",
   "execution_count": 152,
   "id": "d57d535b",
   "metadata": {},
   "outputs": [
    {
     "name": "stdout",
     "output_type": "stream",
     "text": [
      "<class 'pandas.core.frame.DataFrame'>\n",
      "RangeIndex: 112 entries, 0 to 111\n",
      "Data columns (total 2 columns):\n",
      " #   Column  Non-Null Count  Dtype\n",
      "---  ------  --------------  -----\n",
      " 0   Year    112 non-null    int64\n",
      " 1   Price   112 non-null    int64\n",
      "dtypes: int64(2)\n",
      "memory usage: 1.9 KB\n"
     ]
    }
   ],
   "source": [
    "#This provides some information regarding the columns in the data\n",
    "\n",
    "data.info()"
   ]
  },
  {
   "cell_type": "code",
   "execution_count": 153,
   "id": "240166fa",
   "metadata": {},
   "outputs": [
    {
     "data": {
      "text/html": [
       "<div>\n",
       "<style scoped>\n",
       "    .dataframe tbody tr th:only-of-type {\n",
       "        vertical-align: middle;\n",
       "    }\n",
       "\n",
       "    .dataframe tbody tr th {\n",
       "        vertical-align: top;\n",
       "    }\n",
       "\n",
       "    .dataframe thead th {\n",
       "        text-align: right;\n",
       "    }\n",
       "</style>\n",
       "<table border=\"1\" class=\"dataframe\">\n",
       "  <thead>\n",
       "    <tr style=\"text-align: right;\">\n",
       "      <th></th>\n",
       "      <th>Year</th>\n",
       "      <th>Price</th>\n",
       "    </tr>\n",
       "  </thead>\n",
       "  <tbody>\n",
       "    <tr>\n",
       "      <th>count</th>\n",
       "      <td>112.000000</td>\n",
       "      <td>112.000000</td>\n",
       "    </tr>\n",
       "    <tr>\n",
       "      <th>mean</th>\n",
       "      <td>2016.669643</td>\n",
       "      <td>483866.044643</td>\n",
       "    </tr>\n",
       "    <tr>\n",
       "      <th>std</th>\n",
       "      <td>1.629616</td>\n",
       "      <td>91217.450533</td>\n",
       "    </tr>\n",
       "    <tr>\n",
       "      <th>min</th>\n",
       "      <td>2013.000000</td>\n",
       "      <td>300000.000000</td>\n",
       "    </tr>\n",
       "    <tr>\n",
       "      <th>25%</th>\n",
       "      <td>2015.000000</td>\n",
       "      <td>423750.000000</td>\n",
       "    </tr>\n",
       "    <tr>\n",
       "      <th>50%</th>\n",
       "      <td>2017.000000</td>\n",
       "      <td>500000.000000</td>\n",
       "    </tr>\n",
       "    <tr>\n",
       "      <th>75%</th>\n",
       "      <td>2017.000000</td>\n",
       "      <td>550000.000000</td>\n",
       "    </tr>\n",
       "    <tr>\n",
       "      <th>max</th>\n",
       "      <td>2020.000000</td>\n",
       "      <td>755000.000000</td>\n",
       "    </tr>\n",
       "  </tbody>\n",
       "</table>\n",
       "</div>"
      ],
      "text/plain": [
       "              Year          Price\n",
       "count   112.000000     112.000000\n",
       "mean   2016.669643  483866.044643\n",
       "std       1.629616   91217.450533\n",
       "min    2013.000000  300000.000000\n",
       "25%    2015.000000  423750.000000\n",
       "50%    2017.000000  500000.000000\n",
       "75%    2017.000000  550000.000000\n",
       "max    2020.000000  755000.000000"
      ]
     },
     "execution_count": 153,
     "metadata": {},
     "output_type": "execute_result"
    }
   ],
   "source": [
    "#This describes the basic stat behind the dataset used\n",
    "\n",
    "data.describe()"
   ]
  },
  {
   "cell_type": "code",
   "execution_count": 154,
   "id": "80f00763",
   "metadata": {},
   "outputs": [
    {
     "data": {
      "text/plain": [
       "(112, 2)"
      ]
     },
     "execution_count": 154,
     "metadata": {},
     "output_type": "execute_result"
    }
   ],
   "source": [
    "#Checking shape of the dataset\n",
    "\n",
    "data.shape"
   ]
  },
  {
   "cell_type": "code",
   "execution_count": 155,
   "id": "104b1926",
   "metadata": {},
   "outputs": [
    {
     "data": {
      "text/plain": [
       "array([465000, 755000, 700000, 350000, 425000, 575000, 509999, 500000,\n",
       "       600000, 475000, 550000, 434999, 650000, 450000, 486000, 545000,\n",
       "       525000, 396000, 325000, 345000, 341000, 490000, 540000, 595000,\n",
       "       495000, 400000, 300000, 320000, 409999, 390000, 480000, 520000,\n",
       "       640000, 375000, 420000], dtype=int64)"
      ]
     },
     "execution_count": 155,
     "metadata": {},
     "output_type": "execute_result"
    }
   ],
   "source": [
    "#Checking unique values\n",
    "\n",
    "data['Price'].unique()"
   ]
  },
  {
   "cell_type": "code",
   "execution_count": 156,
   "id": "a9bf5a18",
   "metadata": {},
   "outputs": [
    {
     "data": {
      "text/plain": [
       "35"
      ]
     },
     "execution_count": 156,
     "metadata": {},
     "output_type": "execute_result"
    }
   ],
   "source": [
    "#Checking how many unique values in the target column\n",
    "\n",
    "data['Price'].nunique()"
   ]
  },
  {
   "cell_type": "code",
   "execution_count": 157,
   "id": "b442cdbf",
   "metadata": {},
   "outputs": [
    {
     "data": {
      "text/plain": [
       "Year     0\n",
       "Price    0\n",
       "dtype: int64"
      ]
     },
     "execution_count": 157,
     "metadata": {},
     "output_type": "execute_result"
    }
   ],
   "source": [
    "#Checking null values or missing values\n",
    "\n",
    "data.isna().sum()"
   ]
  },
  {
   "cell_type": "code",
   "execution_count": 158,
   "id": "3196abf0",
   "metadata": {},
   "outputs": [
    {
     "data": {
      "text/plain": [
       "<AxesSubplot:>"
      ]
     },
     "execution_count": 158,
     "metadata": {},
     "output_type": "execute_result"
    },
    {
     "data": {
      "image/png": "[encoded data removed]",
      "text/plain": [
       "<Figure size 1000x400 with 2 Axes>"
      ]
     },
     "metadata": {},
     "output_type": "display_data"
    }
   ],
   "source": [
    "#Checking the correlation between the independent variable and dependent variable\n",
    "\n",
    "corrmatrix=data.corr()\n",
    "plt.subplots(figsize=(10,4))\n",
    "sns.heatmap(corrmatrix,annot=True,vmin=-0.5,vmax=1,linewidth=0.3,cmap='YlGnBu')"
   ]
  },
  {
   "cell_type": "code",
   "execution_count": 159,
   "id": "51153192",
   "metadata": {},
   "outputs": [
    {
     "data": {
      "text/plain": [
       "0      465000\n",
       "1      755000\n",
       "2      700000\n",
       "3      465000\n",
       "4      465000\n",
       "        ...  \n",
       "107    375000\n",
       "108    300000\n",
       "109    425000\n",
       "110    420000\n",
       "111    425000\n",
       "Name: Price, Length: 112, dtype: int64"
      ]
     },
     "execution_count": 159,
     "metadata": {},
     "output_type": "execute_result"
    }
   ],
   "source": [
    "#Taking independent variable(Year) as x and dependent variable(Price) as y and dropping the target column\n",
    "\n",
    "y=data['Price']\n",
    "x=data.drop(['Price'],axis=1)\n",
    "y\n"
   ]
  },
  {
   "cell_type": "code",
   "execution_count": 130,
   "id": "c06688f1",
   "metadata": {},
   "outputs": [
    {
     "data": {
      "text/html": [
       "<div>\n",
       "<style scoped>\n",
       "    .dataframe tbody tr th:only-of-type {\n",
       "        vertical-align: middle;\n",
       "    }\n",
       "\n",
       "    .dataframe tbody tr th {\n",
       "        vertical-align: top;\n",
       "    }\n",
       "\n",
       "    .dataframe thead th {\n",
       "        text-align: right;\n",
       "    }\n",
       "</style>\n",
       "<table border=\"1\" class=\"dataframe\">\n",
       "  <thead>\n",
       "    <tr style=\"text-align: right;\">\n",
       "      <th></th>\n",
       "      <th>Year</th>\n",
       "    </tr>\n",
       "  </thead>\n",
       "  <tbody>\n",
       "    <tr>\n",
       "      <th>0</th>\n",
       "      <td>2018</td>\n",
       "    </tr>\n",
       "    <tr>\n",
       "      <th>1</th>\n",
       "      <td>2019</td>\n",
       "    </tr>\n",
       "    <tr>\n",
       "      <th>2</th>\n",
       "      <td>2019</td>\n",
       "    </tr>\n",
       "    <tr>\n",
       "      <th>3</th>\n",
       "      <td>2018</td>\n",
       "    </tr>\n",
       "    <tr>\n",
       "      <th>4</th>\n",
       "      <td>2018</td>\n",
       "    </tr>\n",
       "    <tr>\n",
       "      <th>...</th>\n",
       "      <td>...</td>\n",
       "    </tr>\n",
       "    <tr>\n",
       "      <th>107</th>\n",
       "      <td>2016</td>\n",
       "    </tr>\n",
       "    <tr>\n",
       "      <th>108</th>\n",
       "      <td>2014</td>\n",
       "    </tr>\n",
       "    <tr>\n",
       "      <th>109</th>\n",
       "      <td>2015</td>\n",
       "    </tr>\n",
       "    <tr>\n",
       "      <th>110</th>\n",
       "      <td>2016</td>\n",
       "    </tr>\n",
       "    <tr>\n",
       "      <th>111</th>\n",
       "      <td>2015</td>\n",
       "    </tr>\n",
       "  </tbody>\n",
       "</table>\n",
       "<p>112 rows × 1 columns</p>\n",
       "</div>"
      ],
      "text/plain": [
       "     Year\n",
       "0    2018\n",
       "1    2019\n",
       "2    2019\n",
       "3    2018\n",
       "4    2018\n",
       "..    ...\n",
       "107  2016\n",
       "108  2014\n",
       "109  2015\n",
       "110  2016\n",
       "111  2015\n",
       "\n",
       "[112 rows x 1 columns]"
      ]
     },
     "execution_count": 130,
     "metadata": {},
     "output_type": "execute_result"
    }
   ],
   "source": [
    "x"
   ]
  },
  {
   "cell_type": "code",
   "execution_count": 131,
   "id": "73ed6650",
   "metadata": {},
   "outputs": [],
   "source": [
    "#Test whether the machine learned properly\n",
    "#Import Segregating data from scikit learn\n",
    "\n",
    "from sklearn.model_selection import train_test_split"
   ]
  },
  {
   "cell_type": "code",
   "execution_count": 132,
   "id": "81318b5e",
   "metadata": {},
   "outputs": [],
   "source": [
    "#Split the data for train and test\n",
    "\n",
    "x_train,x_test,y_train,y_test=train_test_split(x,y,test_size=.25,random_state=42)"
   ]
  },
  {
   "cell_type": "code",
   "execution_count": 133,
   "id": "f23faf41",
   "metadata": {},
   "outputs": [],
   "source": [
    "# Importing Linear Regression model from scikit learn\n",
    "\n",
    "from sklearn import linear_model\n",
    "#Creating Instance\n",
    "\n",
    "lin_reg=linear_model.LinearRegression()"
   ]
  },
  {
   "cell_type": "code",
   "execution_count": 134,
   "id": "97d860b5",
   "metadata": {},
   "outputs": [],
   "source": [
    "#Fitting the model\n",
    "\n",
    "model=lin_reg.fit(x_train,y_train)"
   ]
  },
  {
   "cell_type": "code",
   "execution_count": 135,
   "id": "1e89cd00",
   "metadata": {},
   "outputs": [],
   "source": [
    "# Evaluate the models with r2\n",
    "lin_reg_score = lin_reg.score(x_test, y_test)"
   ]
  },
  {
   "cell_type": "code",
   "execution_count": 136,
   "id": "6e5f9558",
   "metadata": {},
   "outputs": [
    {
     "data": {
      "text/plain": [
       "array([599223.07304104, 505265.04214995, 552244.05759549, 552244.05759549,\n",
       "       552244.05759549, 411307.01125886, 505265.04214995, 552244.05759549,\n",
       "       599223.07304104, 599223.07304104, 317348.98036776, 505265.04214995,\n",
       "       411307.01125886, 646202.08848657, 552244.05759549, 599223.07304104,\n",
       "       317348.98036776, 411307.01125886, 505265.04214995, 505265.04214995,\n",
       "       505265.04214995, 505265.04214995, 505265.04214995, 505265.04214995,\n",
       "       505265.04214995, 505265.04214995, 411307.01125886, 411307.01125886])"
      ]
     },
     "execution_count": 136,
     "metadata": {},
     "output_type": "execute_result"
    }
   ],
   "source": [
    "#Test the model\n",
    "\n",
    "y_pred=model.predict(x_test)\n",
    "y_pred"
   ]
  },
  {
   "cell_type": "code",
   "execution_count": 137,
   "id": "8ba68737",
   "metadata": {},
   "outputs": [
    {
     "data": {
      "text/plain": [
       "40     525000\n",
       "65     495000\n",
       "4      465000\n",
       "47     450000\n",
       "42     550000\n",
       "69     300000\n",
       "26     550000\n",
       "11     500000\n",
       "10     500000\n",
       "44     550000\n",
       "73     320000\n",
       "55     550000\n",
       "68     465000\n",
       "97     640000\n",
       "0      465000\n",
       "18     500000\n",
       "53     345000\n",
       "80     390000\n",
       "103    375000\n",
       "91     520000\n",
       "36     550000\n",
       "12     500000\n",
       "31     550000\n",
       "66     525000\n",
       "90     520000\n",
       "62     540000\n",
       "22     434999\n",
       "85     320000\n",
       "Name: Price, dtype: int64"
      ]
     },
     "execution_count": 137,
     "metadata": {},
     "output_type": "execute_result"
    }
   ],
   "source": [
    "y_test"
   ]
  },
  {
   "cell_type": "code",
   "execution_count": 138,
   "id": "ef3d065c",
   "metadata": {},
   "outputs": [
    {
     "name": "stdout",
     "output_type": "stream",
     "text": [
      "MSE =  3878767151.073449\n"
     ]
    }
   ],
   "source": [
    "# Importing metrics for the evaluation of the model\n",
    "from sklearn.metrics import mean_squared_error\n",
    "print('MSE = ',mean_squared_error(y_test,y_pred))"
   ]
  },
  {
   "cell_type": "code",
   "execution_count": 139,
   "id": "5dace1d4",
   "metadata": {},
   "outputs": [
    {
     "name": "stdout",
     "output_type": "stream",
     "text": [
      "lin_reg_score= 0.4347961632108023\n"
     ]
    }
   ],
   "source": [
    "from sklearn.metrics import r2_score\n",
    "print('lin_reg_score=',r2_score(y_test,y_pred))"
   ]
  },
  {
   "cell_type": "markdown",
   "id": "0f119ca0",
   "metadata": {},
   "source": [
    "# Lasso Regression"
   ]
  },
  {
   "cell_type": "code",
   "execution_count": 140,
   "id": "8dc3f6cd",
   "metadata": {},
   "outputs": [],
   "source": [
    "## Create a lasso regression model\n",
    "from sklearn.linear_model import Lasso"
   ]
  },
  {
   "cell_type": "code",
   "execution_count": 141,
   "id": "08a62285",
   "metadata": {},
   "outputs": [],
   "source": [
    "Lasso_reg=Lasso()"
   ]
  },
  {
   "cell_type": "code",
   "execution_count": 142,
   "id": "5013b47f",
   "metadata": {},
   "outputs": [],
   "source": [
    "#Fitting the lasso regression model\n",
    "model1=Lasso_reg.fit(x_train,y_train)"
   ]
  },
  {
   "cell_type": "code",
   "execution_count": 143,
   "id": "381b290b",
   "metadata": {},
   "outputs": [],
   "source": [
    "# Evaluate the models with r^2\n",
    "lasso_reg_score = Lasso_reg.score(x_test, y_test)"
   ]
  },
  {
   "cell_type": "code",
   "execution_count": 144,
   "id": "fd5a804d",
   "metadata": {},
   "outputs": [],
   "source": [
    "#Making prediction\n",
    "\n",
    "y_pred_lasso=Lasso_reg.predict(x_test)\n",
    "\n"
   ]
  },
  {
   "cell_type": "code",
   "execution_count": 145,
   "id": "6350000d",
   "metadata": {},
   "outputs": [
    {
     "name": "stdout",
     "output_type": "stream",
     "text": [
      "MSE= 3878735896.222091\n"
     ]
    }
   ],
   "source": [
    "#Printing Mean Square Error \n",
    "\n",
    "print('MSE=',mean_squared_error(y_test,y_pred_lasso))"
   ]
  },
  {
   "cell_type": "code",
   "execution_count": 146,
   "id": "8f33d99d",
   "metadata": {},
   "outputs": [
    {
     "name": "stdout",
     "output_type": "stream",
     "text": [
      "lasso_reg_score= 0.4348007175862566\n"
     ]
    }
   ],
   "source": [
    "#Printing r2 score\n",
    "\n",
    "print('lasso_reg_score=',r2_score(y_test,y_pred_lasso))"
   ]
  },
  {
   "cell_type": "markdown",
   "id": "e47b4e92",
   "metadata": {},
   "source": [
    "# # Predict the price of a 2022 model second-hand Grand i10"
   ]
  },
  {
   "cell_type": "code",
   "execution_count": 147,
   "id": "53b90a01",
   "metadata": {},
   "outputs": [
    {
     "name": "stdout",
     "output_type": "stream",
     "text": [
      "Predicted price of a 2022 model second-hand Grand i10= [740160.11937766]\n"
     ]
    }
   ],
   "source": [
    "Predicted_price=lr.predict([[2022]])\n",
    "print('Predicted price of a 2022 model second-hand Grand i10=', Predicted_price)"
   ]
  },
  {
   "cell_type": "code",
   "execution_count": 148,
   "id": "dbc87ca7",
   "metadata": {},
   "outputs": [
    {
     "name": "stdout",
     "output_type": "stream",
     "text": [
      "Lasso regression is performing better.\n"
     ]
    }
   ],
   "source": [
    "#Determine which model is performing better\n",
    "\n",
    "if lin_reg_score > lasso_reg_score:\n",
    "    print(\"Linear regression is performing better.\")\n",
    "else:\n",
    "    print(\"Lasso regression is performing better.\")"
   ]
  },
  {
   "cell_type": "code",
   "execution_count": null,
   "id": "129e4625",
   "metadata": {},
   "outputs": [],
   "source": []
  }
 ],
 "metadata": {
  "kernelspec": {
   "display_name": "Python 3 (ipykernel)",
   "language": "python",
   "name": "python3"
  },
  "language_info": {
   "codemirror_mode": {
    "name": "ipython",
    "version": 3
   },
   "file_extension": ".py",
   "mimetype": "text/x-python",
   "name": "python",
   "nbconvert_exporter": "python",
   "pygments_lexer": "ipython3",
   "version": "3.9.13"
  }
 },
 "nbformat": 4,
 "nbformat_minor": 5
}
